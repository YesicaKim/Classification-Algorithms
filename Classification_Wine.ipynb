{
 "cells": [
  {
   "cell_type": "code",
   "execution_count": 74,
   "metadata": {},
   "outputs": [],
   "source": [
    "# (1) 필요한 모듈 import\n",
    "from sklearn.datasets import load_wine\n",
    "from sklearn.model_selection import train_test_split\n",
    "from sklearn.metrics import classification_report, accuracy_score, recall_score, precision_score, f1_score\n",
    "from sklearn.tree import DecisionTreeClassifier\n",
    "from sklearn.ensemble import RandomForestClassifier\n",
    "from sklearn import svm\n",
    "from sklearn.linear_model import SGDClassifier\n",
    "from sklearn.linear_model import LogisticRegression\n",
    "import pandas as pd\n",
    "import warnings\n",
    "warnings.filterwarnings('ignore')"
   ]
  },
  {
   "cell_type": "code",
   "execution_count": 75,
   "metadata": {},
   "outputs": [],
   "source": [
    "# (2) 데이터 준비\n",
    "wine = load_wine()\n",
    "wine_data = wine.data\n",
    "wine_label = wine.target"
   ]
  },
  {
   "cell_type": "code",
   "execution_count": 76,
   "metadata": {},
   "outputs": [
    {
     "name": "stdout",
     "output_type": "stream",
     "text": [
      "(178, 13)\n",
      "(178,)\n",
      ".. _wine_dataset:\n",
      "\n",
      "Wine recognition dataset\n",
      "------------------------\n",
      "\n",
      "**Data Set Characteristics:**\n",
      "\n",
      "    :Number of Instances: 178 (50 in each of three classes)\n",
      "    :Number of Attributes: 13 numeric, predictive attributes and the class\n",
      "    :Attribute Information:\n",
      " \t\t- Alcohol\n",
      " \t\t- Malic acid\n",
      " \t\t- Ash\n",
      "\t\t- Alcalinity of ash  \n",
      " \t\t- Magnesium\n",
      "\t\t- Total phenols\n",
      " \t\t- Flavanoids\n",
      " \t\t- Nonflavanoid phenols\n",
      " \t\t- Proanthocyanins\n",
      "\t\t- Color intensity\n",
      " \t\t- Hue\n",
      " \t\t- OD280/OD315 of diluted wines\n",
      " \t\t- Proline\n",
      "\n",
      "    - class:\n",
      "            - class_0\n",
      "            - class_1\n",
      "            - class_2\n",
      "\t\t\n",
      "    :Summary Statistics:\n",
      "    \n",
      "    ============================= ==== ===== ======= =====\n",
      "                                   Min   Max   Mean     SD\n",
      "    ============================= ==== ===== ======= =====\n",
      "    Alcohol:                      11.0  14.8    13.0   0.8\n",
      "    Malic Acid:                   0.74  5.80    2.34  1.12\n",
      "    Ash:                          1.36  3.23    2.36  0.27\n",
      "    Alcalinity of Ash:            10.6  30.0    19.5   3.3\n",
      "    Magnesium:                    70.0 162.0    99.7  14.3\n",
      "    Total Phenols:                0.98  3.88    2.29  0.63\n",
      "    Flavanoids:                   0.34  5.08    2.03  1.00\n",
      "    Nonflavanoid Phenols:         0.13  0.66    0.36  0.12\n",
      "    Proanthocyanins:              0.41  3.58    1.59  0.57\n",
      "    Colour Intensity:              1.3  13.0     5.1   2.3\n",
      "    Hue:                          0.48  1.71    0.96  0.23\n",
      "    OD280/OD315 of diluted wines: 1.27  4.00    2.61  0.71\n",
      "    Proline:                       278  1680     746   315\n",
      "    ============================= ==== ===== ======= =====\n",
      "\n",
      "    :Missing Attribute Values: None\n",
      "    :Class Distribution: class_0 (59), class_1 (71), class_2 (48)\n",
      "    :Creator: R.A. Fisher\n",
      "    :Donor: Michael Marshall (MARSHALL%PLU@io.arc.nasa.gov)\n",
      "    :Date: July, 1988\n",
      "\n",
      "This is a copy of UCI ML Wine recognition datasets.\n",
      "https://archive.ics.uci.edu/ml/machine-learning-databases/wine/wine.data\n",
      "\n",
      "The data is the results of a chemical analysis of wines grown in the same\n",
      "region in Italy by three different cultivators. There are thirteen different\n",
      "measurements taken for different constituents found in the three types of\n",
      "wine.\n",
      "\n",
      "Original Owners: \n",
      "\n",
      "Forina, M. et al, PARVUS - \n",
      "An Extendible Package for Data Exploration, Classification and Correlation. \n",
      "Institute of Pharmaceutical and Food Analysis and Technologies,\n",
      "Via Brigata Salerno, 16147 Genoa, Italy.\n",
      "\n",
      "Citation:\n",
      "\n",
      "Lichman, M. (2013). UCI Machine Learning Repository\n",
      "[https://archive.ics.uci.edu/ml]. Irvine, CA: University of California,\n",
      "School of Information and Computer Science. \n",
      "\n",
      ".. topic:: References\n",
      "\n",
      "  (1) S. Aeberhard, D. Coomans and O. de Vel, \n",
      "  Comparison of Classifiers in High Dimensional Settings, \n",
      "  Tech. Rep. no. 92-02, (1992), Dept. of Computer Science and Dept. of  \n",
      "  Mathematics and Statistics, James Cook University of North Queensland. \n",
      "  (Also submitted to Technometrics). \n",
      "\n",
      "  The data was used with many others for comparing various \n",
      "  classifiers. The classes are separable, though only RDA \n",
      "  has achieved 100% correct classification. \n",
      "  (RDA : 100%, QDA 99.4%, LDA 98.9%, 1NN 96.1% (z-transformed data)) \n",
      "  (All results using the leave-one-out technique) \n",
      "\n",
      "  (2) S. Aeberhard, D. Coomans and O. de Vel, \n",
      "  \"THE CLASSIFICATION PERFORMANCE OF RDA\" \n",
      "  Tech. Rep. no. 92-01, (1992), Dept. of Computer Science and Dept. of \n",
      "  Mathematics and Statistics, James Cook University of North Queensland. \n",
      "  (Also submitted to Journal of Chemometrics).\n",
      "\n"
     ]
    },
    {
     "data": {
      "text/plain": [
       "['alcohol',\n",
       " 'malic_acid',\n",
       " 'ash',\n",
       " 'alcalinity_of_ash',\n",
       " 'magnesium',\n",
       " 'total_phenols',\n",
       " 'flavanoids',\n",
       " 'nonflavanoid_phenols',\n",
       " 'proanthocyanins',\n",
       " 'color_intensity',\n",
       " 'hue',\n",
       " 'od280/od315_of_diluted_wines',\n",
       " 'proline']"
      ]
     },
     "execution_count": 76,
     "metadata": {},
     "output_type": "execute_result"
    }
   ],
   "source": [
    "# (3) 데이터 살펴보기\n",
    "wine.keys()\n",
    "wine_data = wine.data\n",
    "print(wine_data.shape) \n",
    "wine_data[0]\n",
    "dir(wine)\n",
    "print(wine_label.shape)\n",
    "wine_label\n",
    "wine.target_names\n",
    "print(wine.DESCR)\n",
    "wine.feature_names"
   ]
  },
  {
   "cell_type": "code",
   "execution_count": 77,
   "metadata": {},
   "outputs": [],
   "source": [
    "# (3) train, test 데이터 분리\n",
    "X_train, X_test, y_train, y_test = train_test_split(wine_data, \n",
    "                                                    wine_label, \n",
    "                                                    test_size=0.2,\n",
    "                                                    stratify=wine_label, \n",
    "                                                    random_state=7)"
   ]
  },
  {
   "cell_type": "code",
   "execution_count": 78,
   "metadata": {},
   "outputs": [
    {
     "name": "stdout",
     "output_type": "stream",
     "text": [
      "*** Decision Tree ***\n",
      "(1) acc 결과: 0.94 \n",
      "(2) cr 결과: \n",
      "                precision    recall  f1-score   support\n",
      "\n",
      "           0       1.00      0.92      0.96        12\n",
      "           1       0.93      0.93      0.93        14\n",
      "           2       0.91      1.00      0.95        10\n",
      "\n",
      "    accuracy                           0.94        36\n",
      "   macro avg       0.95      0.95      0.95        36\n",
      "weighted avg       0.95      0.94      0.94        36\n",
      "\n",
      "(3) f1 결과: 0.95 \n",
      "(4) recall 결과: 0.95 \n",
      "(5) precision 결과: 0.95 \n"
     ]
    }
   ],
   "source": [
    "# (4-1) 모델 학습 및 예측 : Decision Tree\n",
    "decision_tree = DecisionTreeClassifier(random_state=32)\n",
    "decision_tree.fit(X_train, y_train)\n",
    "y_pred = decision_tree.predict(X_test)\n",
    "\n",
    "print(\"*** Decision Tree ***\")\n",
    "\n",
    "print(\"(1) acc 결과: {:.2f} \".format(accuracy_score(y_test , y_pred)))\n",
    "print(\"(2) cr 결과: \\n \", classification_report(y_test, y_pred))\n",
    "if pd.Series(y_test).nunique() >=3:\n",
    "    print(\"(3) f1 결과: {:.2f} \".format(f1_score(y_test, y_pred, average='macro')))\n",
    "    print(\"(4) recall 결과: {:.2f} \".format(recall_score(y_test, y_pred, average='macro')))\n",
    "    print(\"(5) precision 결과: {:.2f} \".format(precision_score(y_test, y_pred, average='macro')))\n",
    "else:\n",
    "    print(\"(3) f1 결과: {:.2f} \".format(f1_score(y_test, y_pred)))\n",
    "    print(\"(4) recall 결과: {:.2f} \".format(recall_score(y_test, y_pred)))\n",
    "    print(\"(5) precision 결과: {:.2f} \".format(precision_score(y_test, y_pred)))"
   ]
  },
  {
   "cell_type": "code",
   "execution_count": 79,
   "metadata": {},
   "outputs": [
    {
     "name": "stdout",
     "output_type": "stream",
     "text": [
      "*** Random Forest ***\n",
      "(1) acc 결과: 0.97 \n",
      "(2) cr 결과: \n",
      "                precision    recall  f1-score   support\n",
      "\n",
      "           0       1.00      1.00      1.00        12\n",
      "           1       1.00      0.93      0.96        14\n",
      "           2       0.91      1.00      0.95        10\n",
      "\n",
      "    accuracy                           0.97        36\n",
      "   macro avg       0.97      0.98      0.97        36\n",
      "weighted avg       0.97      0.97      0.97        36\n",
      "\n",
      "(3) f1 결과: 0.97 \n",
      "(4) recall 결과: 0.98 \n",
      "(5) precision 결과: 0.97 \n"
     ]
    }
   ],
   "source": [
    "# (4-2) 모델 학습 및 예측 : Random Forest\n",
    "random_forest = RandomForestClassifier(random_state=32)\n",
    "random_forest.fit(X_train, y_train)\n",
    "y_pred = random_forest.predict(X_test)\n",
    "\n",
    "print(\"*** Random Forest ***\")\n",
    "\n",
    "print(\"(1) acc 결과: {:.2f} \".format(accuracy_score(y_test , y_pred)))\n",
    "print(\"(2) cr 결과: \\n \", classification_report(y_test, y_pred))\n",
    "if pd.Series(y_test).nunique() >=3:\n",
    "    print(\"(3) f1 결과: {:.2f} \".format(f1_score(y_test, y_pred, average='macro')))\n",
    "    print(\"(4) recall 결과: {:.2f} \".format(recall_score(y_test, y_pred, average='macro')))\n",
    "    print(\"(5) precision 결과: {:.2f} \".format(precision_score(y_test, y_pred, average='macro')))\n",
    "else:\n",
    "    print(\"(3) f1 결과: {:.2f} \".format(f1_score(y_test, y_pred)))\n",
    "    print(\"(4) recall 결과: {:.2f} \".format(recall_score(y_test, y_pred)))\n",
    "    print(\"(5) precision 결과: {:.2f} \".format(precision_score(y_test, y_pred)))"
   ]
  },
  {
   "cell_type": "code",
   "execution_count": 80,
   "metadata": {},
   "outputs": [
    {
     "name": "stdout",
     "output_type": "stream",
     "text": [
      "*** SVM ***\n",
      "(1) acc 결과: 0.64 \n",
      "(2) cr 결과: \n",
      "                precision    recall  f1-score   support\n",
      "\n",
      "           0       1.00      0.75      0.86        12\n",
      "           1       0.60      0.86      0.71        14\n",
      "           2       0.29      0.20      0.24        10\n",
      "\n",
      "    accuracy                           0.64        36\n",
      "   macro avg       0.63      0.60      0.60        36\n",
      "weighted avg       0.65      0.64      0.63        36\n",
      "\n",
      "(3) f1 결과: 0.60 \n",
      "(4) recall 결과: 0.60 \n",
      "(5) precision 결과: 0.63 \n"
     ]
    }
   ],
   "source": [
    "# (4-3) 모델 학습 및 예측 : SVM\n",
    "svm_model = svm.SVC()\n",
    "svm_model.fit(X_train, y_train)\n",
    "y_pred = svm_model.predict(X_test)\n",
    "\n",
    "print(\"*** SVM ***\")\n",
    "\n",
    "print(\"(1) acc 결과: {:.2f} \".format(accuracy_score(y_test , y_pred)))\n",
    "print(\"(2) cr 결과: \\n \", classification_report(y_test, y_pred))\n",
    "if pd.Series(y_test).nunique() >=3:\n",
    "    print(\"(3) f1 결과: {:.2f} \".format(f1_score(y_test, y_pred, average='macro')))\n",
    "    print(\"(4) recall 결과: {:.2f} \".format(recall_score(y_test, y_pred, average='macro')))\n",
    "    print(\"(5) precision 결과: {:.2f} \".format(precision_score(y_test, y_pred, average='macro')))\n",
    "else:\n",
    "    print(\"(3) f1 결과: {:.2f} \".format(f1_score(y_test, y_pred)))\n",
    "    print(\"(4) recall 결과: {:.2f} \".format(recall_score(y_test, y_pred)))\n",
    "    print(\"(5) precision 결과: {:.2f} \".format(precision_score(y_test, y_pred)))"
   ]
  },
  {
   "cell_type": "code",
   "execution_count": 81,
   "metadata": {},
   "outputs": [
    {
     "name": "stdout",
     "output_type": "stream",
     "text": [
      "*** SGDClassifier ***\n",
      "(1) acc 결과: 0.58 \n",
      "(2) cr 결과: \n",
      "                precision    recall  f1-score   support\n",
      "\n",
      "           0       0.80      0.67      0.73        12\n",
      "           1       0.50      0.93      0.65        14\n",
      "           2       0.00      0.00      0.00        10\n",
      "\n",
      "    accuracy                           0.58        36\n",
      "   macro avg       0.43      0.53      0.46        36\n",
      "weighted avg       0.46      0.58      0.50        36\n",
      "\n",
      "(3) f1 결과: 0.46 \n",
      "(4) recall 결과: 0.53 \n",
      "(5) precision 결과: 0.43 \n"
     ]
    }
   ],
   "source": [
    "# (4-4) 모델 학습 및 예측 : SGDClassifier\n",
    "sgd_model = SGDClassifier()\n",
    "sgd_model.fit(X_train, y_train)\n",
    "y_pred = sgd_model.predict(X_test)\n",
    "\n",
    "print(\"*** SGDClassifier ***\")\n",
    "\n",
    "print(\"(1) acc 결과: {:.2f} \".format(accuracy_score(y_test , y_pred)))\n",
    "print(\"(2) cr 결과: \\n \", classification_report(y_test, y_pred))\n",
    "if pd.Series(y_test).nunique() >=3:\n",
    "    print(\"(3) f1 결과: {:.2f} \".format(f1_score(y_test, y_pred, average='macro')))\n",
    "    print(\"(4) recall 결과: {:.2f} \".format(recall_score(y_test, y_pred, average='macro')))\n",
    "    print(\"(5) precision 결과: {:.2f} \".format(precision_score(y_test, y_pred, average='macro')))\n",
    "else:\n",
    "    print(\"(3) f1 결과: {:.2f} \".format(f1_score(y_test, y_pred)))\n",
    "    print(\"(4) recall 결과: {:.2f} \".format(recall_score(y_test, y_pred)))\n",
    "    print(\"(5) precision 결과: {:.2f} \".format(precision_score(y_test, y_pred)))"
   ]
  },
  {
   "cell_type": "code",
   "execution_count": 82,
   "metadata": {},
   "outputs": [
    {
     "name": "stdout",
     "output_type": "stream",
     "text": [
      "*** LogisticRegression ***\n",
      "(1) acc 결과: 0.89 \n",
      "(2) cr 결과: \n",
      "                precision    recall  f1-score   support\n",
      "\n",
      "           0       1.00      0.83      0.91        12\n",
      "           1       0.81      0.93      0.87        14\n",
      "           2       0.90      0.90      0.90        10\n",
      "\n",
      "    accuracy                           0.89        36\n",
      "   macro avg       0.90      0.89      0.89        36\n",
      "weighted avg       0.90      0.89      0.89        36\n",
      "\n",
      "(3) f1 결과: 0.89 \n",
      "(4) recall 결과: 0.89 \n",
      "(5) precision 결과: 0.90 \n"
     ]
    }
   ],
   "source": [
    "# (4-5) 모델 학습 및 예측 : LogisticRegression\n",
    "logistic_model = LogisticRegression()\n",
    "logistic_model.fit(X_train, y_train)\n",
    "y_pred = logistic_model.predict(X_test)\n",
    "\n",
    "print(\"*** LogisticRegression ***\")\n",
    "\n",
    "print(\"(1) acc 결과: {:.2f} \".format(accuracy_score(y_test , y_pred)))\n",
    "print(\"(2) cr 결과: \\n \", classification_report(y_test, y_pred))\n",
    "if pd.Series(y_test).nunique() >=3:\n",
    "    print(\"(3) f1 결과: {:.2f} \".format(f1_score(y_test, y_pred, average='macro')))\n",
    "    print(\"(4) recall 결과: {:.2f} \".format(recall_score(y_test, y_pred, average='macro')))\n",
    "    print(\"(5) precision 결과: {:.2f} \".format(precision_score(y_test, y_pred, average='macro')))\n",
    "else:\n",
    "    print(\"(3) f1 결과: {:.2f} \".format(f1_score(y_test, y_pred)))\n",
    "    print(\"(4) recall 결과: {:.2f} \".format(recall_score(y_test, y_pred)))\n",
    "    print(\"(5) precision 결과: {:.2f} \".format(precision_score(y_test, y_pred)))"
   ]
  },
  {
   "cell_type": "code",
   "execution_count": null,
   "metadata": {},
   "outputs": [],
   "source": [
    "### 어떤 점수를 기반으로 모델을 선택할 것인가?\n",
    "와인 추천은 Precision 점수를 기반으로 선택하는 것이 만족도가 높다고 생각한다. \n",
    "- Precision : 그 특성을 갖는 와인이 아닌데, 그 특성인 와인으로 판단하는 경우, 더 중요함\n",
    "- Recall : 그 특성을 갖는 와인인데, 그 특성을 갖지 않은 와인으로 판단하는 경우 \n",
    "그래서 Precision 점수가 가장 높은 0.97인 RandomForest 모델을 선택하기로 했다. "
   ]
  },
  {
   "cell_type": "code",
   "execution_count": null,
   "metadata": {},
   "outputs": [],
   "source": []
  }
 ],
 "metadata": {
  "kernelspec": {
   "display_name": "aiffel",
   "language": "python",
   "name": "aiffel"
  },
  "language_info": {
   "codemirror_mode": {
    "name": "ipython",
    "version": 3
   },
   "file_extension": ".py",
   "mimetype": "text/x-python",
   "name": "python",
   "nbconvert_exporter": "python",
   "pygments_lexer": "ipython3",
   "version": "3.7.6"
  }
 },
 "nbformat": 4,
 "nbformat_minor": 4
}
